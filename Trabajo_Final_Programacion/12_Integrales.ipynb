{
  "nbformat": 4,
  "nbformat_minor": 0,
  "metadata": {
    "colab": {
      "provenance": []
    }
  },
  "cells": [
    {
      "cell_type": "markdown",
      "source": [
        "#<div class=\"alert alert-success\">Integrales</div>"
      ],
      "metadata": {
        "id": "sWQfsfpUpE34"
      }
    },
    {
      "cell_type": "code",
      "source": [
        "from sympy import *\n",
        "init_printing()\n",
        "x, y, z = symbols('x, y, z')"
      ],
      "outputs": [],
      "metadata": {
        "id": "8spHvz2RpE35"
      },
      "execution_count": null
    },
    {
      "cell_type": "markdown",
      "source": [
        "Sympy puede calcular tanto integrales definidas como indefinidas en modo exacto. Para ello se utiliza el comando **integrate**. Si escribimos **Integral** (con mayúsculas) no efectúa la integral. Para realizarla debemos añadir el método **doit**.\n",
        "\n",
        "Para calcular la primitiva, solamente tenemos que escribir la función. Como segundo parámetro podemos poner la letra sobre la que se efectúa la integral, pero no es necesario."
      ],
      "metadata": {
        "id": "gWnOzWzspE36"
      }
    },
    {
      "cell_type": "markdown",
      "source": [
        "###<div class=\"alert alert-warning\">Calcula las siguientes integrales indefinidas, derivando para comprobar algún resultado:</div>\n",
        "\n",
        "\n",
        "* $\\displaystyle \\int x^5$\n",
        "\n",
        "\n",
        "* $\\displaystyle \\int 4y^3-5y$\n",
        "\n",
        "\n",
        "* $ \\displaystyle \\int x\\cos(x)$"
      ],
      "metadata": {
        "id": "hoRByFSwpE37"
      }
    },
    {
      "cell_type": "code",
      "source": [
        "import sympy as sp\n",
        "\n",
        "#Define the symbols\n",
        "x, y = sp.symbols('x y')\n",
        "\n",
        "#Calculate the indefinite integral of x^5\n",
        "integral_x5 = sp.integrate(x**5, x)\n",
        "print(\"Integral of x^5:\", integral_x5)\n",
        "\n",
        "#Calculate the indefinite integral of 4y^3 - 5y\n",
        "integral_4y3_minus_5y = sp.integrate(4*y**3 - 5*y, y)\n",
        "print(\"Integral of 4y^3 - 5y:\", integral_4y3_minus_5y)\n",
        "\n",
        "#Calculate the indefinite integral of x * cos(x)\n",
        "integral_x_cosx = sp.integrate(x * sp.cos(x), x)\n",
        "print(\"Integral of x * cos(x):\", integral_x_cosx)\n",
        "\n",
        "#Verify the results by taking derivatives of the obtained solutions\n",
        "derivative_x5 = sp.diff(integral_x5, x)\n",
        "derivative_4y3_minus_5y = sp.diff(integral_4y3_minus_5y, y)\n",
        "derivative_x_cosx = sp.diff(integral_x_cosx, x)\n",
        "\n",
        "#Display the derivatives\n",
        "print(\"\\nDerivative of the integral of x^5:\", derivative_x5)\n",
        "print(\"Derivative of the integral of 4y^3 - 5y:\", derivative_4y3_minus_5y)\n",
        "print(\"Derivative of the integral of x * cos(x):\", derivative_x_cosx)\n"
      ],
      "outputs": [],
      "metadata": {
        "id": "gPLbm8NopE37"
      },
      "execution_count": null
    },
    {
      "cell_type": "markdown",
      "source": [
        "Para calcular las integrales indefinidas le debemos facilitar el límite inferior y superior. Para ello, como segundo argumento, debemos escribir lo que Python denomina un tupla. Entre paréntesis escibimos la variable, el límite inferior y el superior."
      ],
      "metadata": {
        "id": "noz8LdsypE38"
      }
    },
    {
      "cell_type": "markdown",
      "source": [
        "###<div class=\"alert alert-warning\">Calcula las integrales definidas:</div>\n",
        "\n",
        "\n",
        "* $\\displaystyle \\int_0^4 4x^3-4x$\n",
        "\n",
        "\n",
        "* $\\displaystyle \\int_0^{\\pi/2} \\cos(x)$"
      ],
      "metadata": {
        "id": "7aqMC1fzpE39"
      }
    },
    {
      "cell_type": "code",
      "source": [
        "import sympy as sp\n",
        "\n",
        "#Define the symbol\n",
        "x = sp.symbols('x')\n",
        "\n",
        "#Calculate the definite integral of 4x^3 - 4x from 0 to 4\n",
        "integral_def_1 = sp.integrate(4*x**3 - 4*x, (x, 0, 4))\n",
        "print(\"Definite integral of 4x^3 - 4x from 0 to 4:\", integral_def_1)\n",
        "\n",
        "#Calculate the definite integral of cos(x) from 0 to pi/2\n",
        "integral_def_2 = sp.integrate(sp.cos(x), (x, 0, sp.pi/2))\n",
        "print(\"Definite integral of cos(x) from 0 to pi/2:\", integral_def_2)"
      ],
      "metadata": {
        "id": "i6Kc2sSfveMB"
      },
      "execution_count": null,
      "outputs": []
    },
    {
      "cell_type": "markdown",
      "source": [
        "Sympy también pueda calcular integrales impropias (por ejemplo con límite igual a infinito). Si la integral no converge nos informa de ello en la solución.\n"
      ],
      "metadata": {
        "id": "GJahk245pE39"
      }
    },
    {
      "cell_type": "markdown",
      "source": [
        "###<div class=\"alert alert-warning\">Calcula las integrales impropias:</div>\n",
        "\n",
        "\n",
        "* $\\displaystyle \\int_1^\\infty \\frac{1}{x}$\n",
        "\n",
        "\n",
        "* $\\displaystyle \\int_2^\\infty \\frac{1}{x^2}$"
      ],
      "metadata": {
        "id": "98oX5jFgpE3-"
      }
    },
    {
      "cell_type": "code",
      "source": [
        "import sympy as sp\n",
        "\n",
        "#Define the symbol\n",
        "x = sp.symbols('x')\n",
        "\n",
        "#Calculate the improper integral of 1/x from 1 to infinity\n",
        "improper_integral_1 = sp.integrate(1/x, (x, 1, sp.oo))\n",
        "print(\"Improper integral of 1/x from 1 to infinity:\", improper_integral_1)\n",
        "\n",
        "#Calculate the improper integral of 1/x^2 from 2 to infinity\n",
        "improper_integral_2 = sp.integrate(1/x**2, (x, 2, sp.oo))\n",
        "print(\"Improper integral of 1/x^2 from 2 to infinity:\", improper_integral_2)\n",
        "\n",
        "\n"
      ],
      "outputs": [],
      "metadata": {
        "id": "6Rs6ChuZpE3_"
      },
      "execution_count": null
    },
    {
      "cell_type": "markdown",
      "source": [
        "Las integrales de fracciones algebraicas se pueden realizar descomponiendo en fracciones simples e integrando cada término. La función para descomponer en fracciones simples es **apart**."
      ],
      "metadata": {
        "id": "v_dRdt32pE3_"
      }
    },
    {
      "cell_type": "markdown",
      "source": [
        "###<div class=\"alert alert-warning\">Calcula la integral de la fracción algebraica. Descompón en fracciones simples e integra:</div>\n",
        "\n",
        "\n",
        "$$\\int \\frac{5x+3}{x^2+2x-3}$$"
      ],
      "metadata": {
        "id": "2-y1zdtjpE3_"
      }
    },
    {
      "cell_type": "code",
      "source": [
        "import sympy as sp\n",
        "\n",
        "#Define the symbol\n",
        "x = sp.symbols('x')\n",
        "\n",
        "#Define the fraction\n",
        "fraction = (5*x + 3) / (x**2 + 2*x - 3)\n",
        "\n",
        "#Decompose the fraction into partial fractions\n",
        "partial_fractions = sp.apart(fraction)\n",
        "print(\"Partial fractions decomposition:\", partial_fractions)\n",
        "\n",
        "#Integrate each term of the partial fractions\n",
        "integral_result = sp.integrate(partial_fractions, x)\n",
        "print(\"Integral of the fraction:\", integral_result)\n"
      ],
      "outputs": [],
      "metadata": {
        "id": "6PHP_BBxpE4A"
      },
      "execution_count": null
    },
    {
      "cell_type": "markdown",
      "source": [
        "Cuando hay muchas letras, o sea cuando tenemos una integral dependiente de parámetros, debemos especificar sin falta la variable sobre la que queremos integrar como segundo argumento."
      ],
      "metadata": {
        "id": "Eri3Gt1BpE4A"
      }
    },
    {
      "cell_type": "markdown",
      "source": [
        "###<div class=\"alert alert-warning\">Calcula la integral:</div>\n",
        "\n",
        "\n",
        "$$\\int A \\cdot \\cos(wt) dt$$"
      ],
      "metadata": {
        "id": "IVakHxq8pE4A"
      }
    },
    {
      "cell_type": "code",
      "source": [
        "import sympy as sp\n",
        "\n",
        "#Define the symbols and parameters\n",
        "A, w, t = sp.symbols('A w t')\n",
        "\n",
        "#Define the function to integrate\n",
        "integral_expr = A * sp.cos(w * t)\n",
        "\n",
        "#Calculate the indefinite integral\n",
        "integral_result = sp.integrate(integral_expr, t)\n",
        "\n",
        "#Display the result\n",
        "print(\"Integral of A * cos(wt) with respect to t:\", integral_result)\n"
      ],
      "outputs": [],
      "metadata": {
        "id": "2jRumyE4pE4A"
      },
      "execution_count": null
    },
    {
      "cell_type": "markdown",
      "source": [
        "###<div class=\"alert alert-warning\">Calcula la integral de la campana de Gauss:</div>\n",
        "\n",
        "\n",
        "$$\\int \\exp(-x^2)$$"
      ],
      "metadata": {
        "id": "XVf_oATOpE4B"
      }
    },
    {
      "cell_type": "code",
      "source": [
        "import sympy as sp\n",
        "\n",
        "#Define the symbol\n",
        "x = sp.symbols('x')\n",
        "\n",
        "#Define the function to integrate\n",
        "gaussian_expr = sp.exp(-x**2)\n",
        "\n",
        "#Calculate the indefinite integral\n",
        "integral_result = sp.integrate(gaussian_expr, x)\n",
        "\n",
        "#Display the result\n",
        "print(\"Integral of exp(-x^2) with respect to x:\", integral_result)\n"
      ],
      "outputs": [],
      "metadata": {
        "id": "hehzNRjOpE4B"
      },
      "execution_count": null
    },
    {
      "cell_type": "code",
      "source": [],
      "outputs": [],
      "metadata": {
        "id": "1esvM-YDpE4B"
      },
      "execution_count": null
    },
    {
      "cell_type": "code",
      "source": [],
      "outputs": [],
      "metadata": {
        "id": "hV4EG6UDpE4B"
      },
      "execution_count": null
    }
  ]
}