{
  "nbformat": 4,
  "nbformat_minor": 0,
  "metadata": {
    "colab": {
      "provenance": []
    }
  },
  "cells": [
    {
      "cell_type": "markdown",
      "source": [
        "#<div class=\"alert alert-success\">Límites</div>"
      ],
      "metadata": {
        "id": "WaphPO0-IAr0"
      }
    },
    {
      "cell_type": "code",
      "source": [
        "from sympy import *\n",
        "init_printing()\n",
        "x, y, z, h = symbols('x, y, z, h')"
      ],
      "outputs": [],
      "metadata": {
        "id": "oQ--GJzdIAr3"
      },
      "execution_count": null
    },
    {
      "cell_type": "markdown",
      "source": [
        "Para calcular límites se utiliza la función **limit**. Esta función puede admitir 4 argumentos, siendo el último opcional. El primer argumento debe ser la función a que le queremos calcular el límite. El segundo es la variable que haremos variar en el límite. El tercero es el punto hacia el que tiende la variable (para escribir infinito podemos escribir **oo**). El cuarto sirve para los límites laterales: si escribimos **dir = '+'** calculamos el límite por la derecha, y escribiendo **dir 0 '-'** calculamos el límite por la izquierda. Por defecto Sympy calcula los límites por la derecha."
      ],
      "metadata": {
        "id": "ZVdZIctBIAr4"
      }
    },
    {
      "cell_type": "markdown",
      "source": [
        "###<div class=\"alert alert-warning\">Calcula la expresión $\\displaystyle\\frac{\\sin(x)}{x}$ para números cercanos a cero, dibuja la función y calcula:\n",
        "\n",
        "\n",
        " $$\\lim_{x\\rightarrow 0}\\frac{\\sin(x)}{x}$$"
      ],
      "metadata": {
        "id": "JX-Gq9P4IAr5"
      }
    },
    {
      "cell_type": "code",
      "source": [
        "import sympy as sp\n",
        "import matplotlib.pyplot as plt\n",
        "import numpy as np\n",
        "\n",
        "x = sp.symbols('x')\n",
        "\n",
        "expression = sp.sin(x) * x\n",
        "\n",
        "# Calculate the limit as x approaches 0\n",
        "limit_result = sp.limit(expression, x, 0)\n",
        "\n",
        "# Plot the function\n",
        "x_vals = np.linspace(-1, 1, 1000)\n",
        "y_vals = np.sin(x_vals) * x_vals\n",
        "\n",
        "plt.plot(x_vals, y_vals, label=r'$\\sin(x) \\cdot x$')\n",
        "plt.axhline(0, color='black',linewidth=0.5)\n",
        "plt.axvline(0, color='black',linewidth=0.5)\n",
        "plt.legend()\n",
        "plt.xlabel('x')\n",
        "plt.ylabel(r'$\\sin(x) \\cdot x$')\n",
        "plt.title('Plot of the function $\\\\sin(x) \\\\cdot x$')\n",
        "plt.show()\n",
        "\n",
        "# Display the limit result\n",
        "print(\"Limit as x approaches 0 of sin(x) * x:\", limit_result)"
      ],
      "outputs": [
        {
          "output_type": "display_data",
          "data": {},
          "metadata": {}
        },
        {
          "output_type": "execute_result",
          "data": {},
          "metadata": {},
          "execution_count": 2
        }
      ],
      "metadata": {
        "id": "4TJGD5jQIAr6",
        "outputId": "2c4efda7-07ba-4244-c1b5-0daf7760cb1a"
      },
      "execution_count": null
    },
    {
      "cell_type": "markdown",
      "source": [
        "###<div class=\"alert alert-warning\">Calcula los límites laterales en $x=0$ de la función:</div>\n",
        "\n",
        "\n",
        "$$\\displaystyle f(x)=\\frac{1}{x}$$"
      ],
      "metadata": {
        "id": "KgTj9LA7IAr6"
      }
    },
    {
      "cell_type": "code",
      "source": [
        "import sympy as sp\n",
        "\n",
        "x = sp.symbols('x')\n",
        "\n",
        "f_x = 1 / x\n",
        "\n",
        "\n",
        "left_limit = sp.limit(f_x, x, 0, dir='-')\n",
        "\n",
        "right_limit = sp.limit(f_x, x, 0, dir='+')\n",
        "\n",
        "\n",
        "print(\"Left-hand limit as x approaches 0^- of 1/x:\", left_limit)\n",
        "print(\"Right-hand limit as x approaches 0^+ of 1/x:\", right_limit)"
      ],
      "outputs": [
        {
          "output_type": "execute_result",
          "data": {},
          "metadata": {},
          "execution_count": 30
        }
      ],
      "metadata": {
        "id": "1DzC5s-zIAr7",
        "outputId": "3d391cfe-3a99-443f-f3d7-f6beb5cda3cb"
      },
      "execution_count": null
    },
    {
      "cell_type": "markdown",
      "source": [
        "Si escribimos **Limit** con mayúscula, Sympy no calcula el límite. Simplemente lo escribe. Si queremos que verdaderamente calcule el límite debemos utilizar el método **doit**."
      ],
      "metadata": {
        "id": "pm1yE4pKIAr7"
      }
    },
    {
      "cell_type": "markdown",
      "source": [
        "###<div class=\"alert alert-warning\">Calcula el límite en el infinito:</div>\n",
        "\n",
        "\n",
        "*  $\\displaystyle \\lim_{x\\rightarrow \\infty} \\left(1+\\frac{1}{x}\\right)^x$"
      ],
      "metadata": {
        "id": "SyCYZwBQIAr8"
      }
    },
    {
      "cell_type": "code",
      "source": [
        "limit((1+1/x)**x,x,oo)"
      ],
      "outputs": [
        {
          "output_type": "execute_result",
          "data": {},
          "metadata": {},
          "execution_count": 33
        }
      ],
      "metadata": {
        "id": "lGH0WBswIAr8",
        "outputId": "47423d7b-9ef2-417f-c3d9-0d46ded1e2ee"
      },
      "execution_count": null
    },
    {
      "cell_type": "markdown",
      "source": [
        "Para calcular la derivada de una función $f(x)$ en un punto $x$ debemos realizar el siguiente límite:\n",
        "\n",
        "\n",
        "$$\\lim_{h\\rightarrow 0} \\frac{f(x+h)-f(x)}{h}$$"
      ],
      "metadata": {
        "id": "WFSQt7FYIAr9"
      }
    },
    {
      "cell_type": "markdown",
      "source": [
        "###<div class=\"alert alert-warning\">Calcular la derivada de la función $f(x)=\\cos(x)$ utilizando la definición con límites.</div>"
      ],
      "metadata": {
        "id": "9XjoufoLIAr9"
      }
    },
    {
      "cell_type": "code",
      "source": [
        "import sympy as sp\n",
        "\n",
        "x, h = sp.symbols('x h')\n",
        "f_x = sp.cos(x)\n",
        "\n",
        "expression = (f_x.subs(x, x + h) - f_x) / h\n",
        "\n",
        "derivative_definition = sp.limit(expression, h, 0)\n",
        "\n",
        "print(\"Derivada de cos(x) mediante la definición con límites:\", derivative_definition)"
      ],
      "outputs": [
        {
          "output_type": "execute_result",
          "data": {},
          "metadata": {},
          "execution_count": 27
        }
      ],
      "metadata": {
        "id": "WKPoZONFIAr9",
        "outputId": "a3139554-675e-403e-df9c-b68af9f69a0c"
      },
      "execution_count": null
    },
    {
      "cell_type": "markdown",
      "source": [
        "###<div class=\"alert alert-warning\">Comprueba la continuidad de la función en  $x=0$.</div>\n",
        "\n",
        "\n",
        "$$f(x)=(2+x)^\\frac{1}{x}$$"
      ],
      "metadata": {
        "id": "Xxzg9swLIAr-"
      }
    },
    {
      "cell_type": "code",
      "source": [
        "import sympy as sp\n",
        "\n",
        "x = sp.symbols('x')\n",
        "f_x = (2 + x)**(1/x)\n",
        "\n",
        "left_limit = sp.limit(f_x, x, 0, dir='-')\n",
        "right_limit = sp.limit(f_x, x, 0, dir='+')\n",
        "\n",
        "function_value = f_x.subs(x, 0)\n",
        "\n",
        "\n",
        "if left_limit == right_limit == function_value:\n",
        "    print(\"the function is continuous in x=0.\")\n",
        "else:\n",
        "    print(\"the function not is continuous in x=0.\")"
      ],
      "outputs": [],
      "metadata": {
        "id": "4l_FS_7VIAr-"
      },
      "execution_count": null
    }
  ]
}