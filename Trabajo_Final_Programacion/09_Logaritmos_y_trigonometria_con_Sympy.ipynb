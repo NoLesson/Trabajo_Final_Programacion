{
  "nbformat": 4,
  "nbformat_minor": 0,
  "metadata": {
    "colab": {
      "provenance": []
    }
  },
  "cells": [
    {
      "cell_type": "markdown",
      "source": [
        "#<div class=\"alert alert-success\">Logaritmos y trigonometría con Sympy.</div>"
      ],
      "metadata": {
        "id": "cATV3lR5C-3W"
      }
    },
    {
      "cell_type": "code",
      "source": [
        "from sympy import *\n",
        "init_printing()\n",
        "x, y, z = symbols('x, y, z')"
      ],
      "outputs": [],
      "metadata": {
        "id": "5BtMmb51C-3Y"
      },
      "execution_count": null
    },
    {
      "cell_type": "markdown",
      "source": [
        "En otro *notebook* hemos trabajado con las funciones logarítmicas y trigonométricas en modo aproximado. Ahora vamos a trabajar en modo exacto. En particular Sympy es capaz de manejar las propiedades de las funciones."
      ],
      "metadata": {
        "id": "CkU_cjyLC-3Z"
      }
    },
    {
      "cell_type": "markdown",
      "source": [
        "Las propiedades fundamentales de los logaritmos sirven para desarrollar expresiones donde aparecen logaritmos. La función principal para desarrollar logaritmos es **expand_log**. A veces, para poder utilizar toda la potencia de esta función debemos añadir un argumento opcional: **force = True**. Otra manera de hacer esto es utilizar el comando **expand** y utilizar el argumento opcional **log = True**."
      ],
      "metadata": {
        "id": "KGrxeGpAC-3Z"
      }
    },
    {
      "cell_type": "markdown",
      "source": [
        "###<div class=\"alert alert-warnig\">Comprueba con Sympy las siguientes propiedades de los logaritmos:</div>\n",
        "\n",
        "\n",
        "* $\\log(x \\cdot y) = \\log(x) + \\log(y)$\n",
        "\n",
        "\n",
        "* $\\log(x^z) = z\\cdot \\log(x)$\n",
        "\n",
        "\n",
        "* $\\displaystyle\\log\\left(\\frac{x}{y}\\right) = \\log(x) -\\log(y)$\n",
        "\n",
        "\n",
        "* $\\displaystyle \\log(\\sqrt{x}) = \\frac{1}{2} \\log(x)$"
      ],
      "metadata": {
        "id": "TJsgCpnSC-3a"
      }
    },
    {
      "cell_type": "code",
      "source": [
        "from sympy import symbols, log, simplify, Eq, solve, sqrt\n",
        "\n",
        "#Define symbolic variables\n",
        "a, b, x, y = symbols('a b x y', positive=True)\n",
        "\n",
        "#Logarithmic property of a product\n",
        "product_property = log(a * b).expand() == log(a).expand() + log(b).expand()\n",
        "\n",
        "#Logarithmic property of a power\n",
        "power_property = log(a**x).expand() == x * log(a).expand()\n",
        "\n",
        "#Logarithmic property of a quotient\n",
        "quotient_property = log(a / b).expand() == log(a).expand() - log(b).expand()\n",
        "\n",
        "#Logarithmic property of the 1/2 power\n",
        "sqrt_log_property = log(sqrt(x)).expand() == 0.5 * log(x).expand()\n",
        "\n",
        "\n",
        "# Verify the properties\n",
        "print(\"Logarithmic property of a product:\", product_property)\n",
        "print(\"Logarithmic property of a quotient:\", quotient_property)\n",
        "print(\"Logarithmic property of a power:\", power_property)\n",
        "print(\"Logarithmic property of the square root of x:\", sqrt_log_property)\n"
      ],
      "outputs": [],
      "metadata": {
        "id": "oOic0slBC-3b"
      },
      "execution_count": null
    },
    {
      "cell_type": "markdown",
      "source": [
        "###<div class=\"alert alert-warnig\">Calcula los siguientes logaritmos:</div>\n",
        "\n",
        "\n",
        "* $\\log_2(1024)$\n",
        "\n",
        "\n",
        "* $\\log_2(\\sqrt{8})$\n",
        "\n",
        "\n",
        "* $\\log_2(\\sqrt[5]{16})$"
      ],
      "metadata": {
        "id": "28dMbW4hC-3c"
      }
    },
    {
      "cell_type": "code",
      "source": [
        "from sympy import log, sqrt, cbrt\n",
        "\n",
        "#Calculate the logarithm base 2 of 1024\n",
        "log_2_1024 = log(1024, 2)\n",
        "\n",
        "#Calculate the logarithm base 2 of the square root of 8\n",
        "log_2_sqrt_8 = log(sqrt(8), 2)\n",
        "\n",
        "#Calculate the logarithm base 2 of the cube root of 16\n",
        "log_2_cbrt_16 = log(cbrt(16), 2)\n",
        "\n",
        " Print the results\n",
        "print(\"Log base 2 of 1024:\", log_2_1024)\n",
        "print(\"Log base 2 of sqrt(8):\", log_2_sqrt_8)\n",
        "print(\"Log base 2 of cbrt(16):\", log_2_cbrt_16)"
      ],
      "outputs": [],
      "metadata": {
        "id": "uQ5vCVMHC-3c"
      },
      "execution_count": null
    },
    {
      "cell_type": "markdown",
      "source": [
        "###<div class=\"alert alert-warnig\">Realiza los siguientes cálculos trigonométricos:</div>\n",
        "\n",
        "\n",
        "* $\\displaystyle \\cos\\left(\\frac{\\pi}{3}\\right)$\n",
        "\n",
        "\n",
        "* $\\displaystyle \\arcsin\\left(\\frac{1}{2}\\right)$\n",
        "\n",
        "\n",
        "* $\\displaystyle 5\\cos\\left(\\frac{\\pi}{2}\\right) +2\\cos(\\pi) -  \\tan \\left(\\frac{2\\pi}{3}\\right)$"
      ],
      "metadata": {
        "id": "59aR5NSEC-3e"
      }
    },
    {
      "cell_type": "code",
      "source": [
        "from sympy import pi, cos, asin, Rational, summation, symbols, tan\n",
        "\n",
        "#Calculate the cosine of pi/3\n",
        "cos_pi_over_3 = cos(pi / 3)\n",
        "\n",
        "#Calculate the arcsine of 1/2\n",
        "asin_half = asin(Rational(1, 2))\n",
        "\n",
        "#Define the symbols for the expression involving summation\n",
        "n = symbols('n')\n",
        "expression = 5 * cos(pi / 2) + 2 * cos(pi) - tan(2 * pi / 3)\n",
        "\n",
        "#Calculate the summation\n",
        "sum_result = summation(expression, (n, 1, 1))\n",
        "\n",
        "#Print the results\n",
        "print(\"Cosine of pi/3:\", cos_pi_over_3)\n",
        "print(\"Arcsine of 1/2:\", asin_half)\n",
        "print(\"Sum of 5*cos(pi/2) + 2*cos(pi) - tan(2*pi/3):\", sum_result)"
      ],
      "outputs": [],
      "metadata": {
        "id": "B916mh0OC-3e"
      },
      "execution_count": null
    },
    {
      "cell_type": "markdown",
      "source": [
        "Las funciones **radians** y **deg2rad** convierten grados a radianes, pero en forma aproximada. Si queremos realizar cálculos exactos, debemos multiplicar los grados por $\\pi$ y dividir el resultado entre $180$."
      ],
      "metadata": {
        "id": "lnJuwbtSC-3e"
      }
    },
    {
      "cell_type": "markdown",
      "source": [
        "###<div class=\"alert alert-warnig\">Realiza los siguientes cálculos trigonométricos:</div>\n",
        "\n",
        "\n",
        "* $\\cos(15^\\mathrm{o})$\n",
        "\n",
        "\n",
        "* $\\cos(30^\\mathrm{o}) -3\\tan(135^\\mathrm{o})$"
      ],
      "metadata": {
        "id": "rhwrtDzaC-3e"
      }
    },
    {
      "cell_type": "code",
      "source": [
        "from sympy import cos, tan, rad\n",
        "\n",
        "#Calculate the cosine of 15 degrees\n",
        "cos_15_deg = cos(rad(15))\n",
        "\n",
        "#Calculate cos(30) - 3tan(135)\n",
        "result = cos(rad(30)) - 3 * tan(rad(135))\n",
        "\n",
        "#Print the results\n",
        "print(\"Cosine of 15 degrees:\", cos_15_deg)\n",
        "print(\"cos(30) - 3tan(135):\", result)"
      ],
      "outputs": [],
      "metadata": {
        "id": "u1JH3_PvC-3f"
      },
      "execution_count": null
    },
    {
      "cell_type": "markdown",
      "source": [
        "La función que sirve para desarrollar expresiones trigonométricas es **expand_trig**. También se puede utilizar **expand** con el argumento opcional **trig = True**."
      ],
      "metadata": {
        "id": "e9mvv2BBC-3f"
      }
    },
    {
      "cell_type": "markdown",
      "source": [
        "###<div class=\"alert alert-warnig\">Comprueba las siguientes propiedades trigonométricas.</div>\n",
        "\n",
        "\n",
        "* $\\sin(x+y)=\\sin(x)\\cos(y)+\\cos(x)\\sin(y)$\n",
        "\n",
        "\n",
        "* $\\cos(x+y) = \\cos(x)\\cos(y)-\\sin(x)\\sin(y)$\n",
        "\n",
        "\n",
        "* $\\tan(x+y) = ?$"
      ],
      "metadata": {
        "id": "pUW3eUKoC-3f"
      }
    },
    {
      "cell_type": "code",
      "source": [
        "from sympy import symbols, sin, cos, tan, simplify, pi\n",
        "\n",
        "#Define the variables\n",
        "x, y = symbols('x y')\n",
        "\n",
        "#Identity 1: sin(x + y) = sin(x)cos(y) + cos(x)sin(y)\n",
        "identity_1 = sin(x + y) - (sin(x)*cos(y) + cos(x)*sin(y))\n",
        "\n",
        "#Identity 2: cos(x + y) = cos(x)cos(y) - sin(x)sin(y)\n",
        "identity_2 = cos(x + y) - (cos(x)*cos(y) - sin(x)*sin(y))\n",
        "\n",
        "#Simplify the results\n",
        "identity_1_simplified = simplify(identity_1)\n",
        "identity_2_simplified = simplify(identity_2)\n",
        "\n",
        "#Show the results\n",
        "print(\"Identity 1 (sin(x+y) - sin(x)cos(y) - cos(x)sin(y)):\", identity_1_simplified)\n",
        "print(\"Identity 2 (cos(x+y) - cos(x)cos(y) + sin(x)sin(y)):\", identity_2_simplified)\n"
      ],
      "outputs": [],
      "metadata": {
        "id": "WmTxUe4pC-3g"
      },
      "execution_count": null
    },
    {
      "cell_type": "code",
      "source": [
        "from sympy import symbols, sin, cos, tan, simplify, pi\n",
        "\n",
        "#Define the variables\n",
        "x, y = symbols('x y')\n",
        "\n",
        "#Identity 3: tan(x + y) = (tan(x) + tan(y)) / (1 - tan(x)*tan(y))\n",
        "identity_3 = tan(x + y) - ((tan(x) + tan(y)) / (1 - tan(x)*tan(y)))\n",
        "\n",
        "\n",
        "identity_3_simplified = simplify(identity_3)\n",
        "\n",
        "\n",
        "print(\"Identity 3 (tan(x+y) - (tan(x) + tan(y)) / (1 - tan(x)*tan(y))):\", identity_3_simplified)\n"
      ],
      "outputs": [],
      "metadata": {
        "id": "GCe_1MSTC-3g"
      },
      "execution_count": null
    }
  ]
}