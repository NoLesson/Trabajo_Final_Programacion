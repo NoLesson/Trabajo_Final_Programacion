{
  "nbformat": 4,
  "nbformat_minor": 0,
  "metadata": {
    "colab": {
      "provenance": []
    },
    "language_info": {
      "name": "python"
    },
    "kernelspec": {
      "name": "python3",
      "display_name": "Python 3"
    }
  },
  "cells": [
    {
      "cell_type": "markdown",
      "source": [
        "#<div class=\"alert alert-success\">Derivadas</div>"
      ],
      "metadata": {
        "id": "xfx4ZMC6f4WU"
      }
    },
    {
      "cell_type": "code",
      "source": [
        "from sympy import *\n",
        "init_printing()\n",
        "x, y, z = symbols('x, y, z')"
      ],
      "outputs": [],
      "metadata": {
        "id": "aNP6gI0hf4WX"
      },
      "execution_count": null
    },
    {
      "cell_type": "markdown",
      "source": [
        "Para derivar funciones se pueden emplear distintos métodos y funciones. Nosotros vamos a emplear la función **diff** y el método con el mismo nombre. Si la función tiene una única variable, el uso de la función **diff** es sencillo: únicamente tenemos que escribir la función con único argumento. El método se usa de la misma forma.\n",
        "\n",
        "Si añadimos el argumento **evaluate = False**, la derivada no se calcula, únicamente se escribe. Se puede usa **doit** para realizar la derivada."
      ],
      "metadata": {
        "id": "lgksayisf4WY"
      }
    },
    {
      "cell_type": "markdown",
      "source": [
        "###<div class=\"alert alert-warning\">Calcula la derivada de las funciones:</div>\n",
        "\n",
        "\n",
        "* $3x^2+8x$\n",
        "\n",
        "\n",
        "* $4y^5-6y^3$\n",
        "\n",
        "\n",
        "* $\\cos(x^2)$"
      ],
      "metadata": {
        "id": "HySWKao6f4Wc"
      }
    },
    {
      "cell_type": "code",
      "source": [
        "import sympy as sp\n",
        "\n",
        "#Definir la variable\n",
        "x = sp.symbols('x')\n",
        "\n",
        "#Definir la función\n",
        "f_x1 = 3*x**2 + 8*x\n",
        "\n",
        "#Calcular la derivada\n",
        "derivative_f_x1 = sp.diff(f_x1, x)\n",
        "\n",
        "#Mostrar el resultado\n",
        "print(derivative_f_x1)\n",
        "\n",
        "#Definir la variable\n",
        "y = sp.symbols('y')\n",
        "\n",
        "#Definir la función\n",
        "f_y = 4*y**5 - 6*y**3\n",
        "\n",
        "#Calcular la derivada\n",
        "derivative_f_y = sp.diff(f_y, y)\n",
        "\n",
        "#Mostrar el resultado\n",
        "print(derivative_f_y)\n",
        "\n",
        "#Definir la función\n",
        "f_x2 = sp.cos(x**2)\n",
        "\n",
        "#Calcular la derivada\n",
        "derivative_f_x2 = sp.diff(f_x2, x)\n",
        "\n",
        "#Mostrar el resultado\n",
        "print(derivative_f_x2)\n"
      ],
      "outputs": [],
      "metadata": {
        "id": "YepFlT-kf4We"
      },
      "execution_count": null
    },
    {
      "cell_type": "markdown",
      "source": [
        "Cuando en la función tiene varias variables, como segundo argumento le debemos especificar la variable respecto a la que queremos derivar."
      ],
      "metadata": {
        "id": "WBVZHvvAf4Wf"
      }
    },
    {
      "cell_type": "markdown",
      "source": [
        "###<div class=\"alert alert-warning\">Deriva la siguiente función respecto a cada una de sus variables:</div>\n",
        "\n",
        "\n",
        "$$ \\cos(3xy^2) $$"
      ],
      "metadata": {
        "id": "b1c5iODcf4Wf"
      }
    },
    {
      "cell_type": "code",
      "source": [
        "import sympy as sp\n",
        "\n",
        "x, y = sp.symbols('x y')\n",
        "\n",
        "f = sp.cos(3*x*y**2)\n",
        "\n",
        "df_dx = sp.diff(f, x)\n",
        "df_dy = sp.diff(f, y)\n",
        "\n",
        "# Mostrar los resultados\n",
        "print(\"Respect to x:\", df_dx)\n",
        "print(\"Respect to y:\", df_dy)"
      ],
      "outputs": [
        {
          "output_type": "execute_result",
          "data": {},
          "metadata": {},
          "execution_count": 25
        }
      ],
      "metadata": {
        "id": "tWfUd5K4f4Wg",
        "outputId": "37533717-1b71-498e-edec-8e467c1f7692"
      },
      "execution_count": null
    },
    {
      "cell_type": "markdown",
      "source": [
        "Para realizar derivadas de mayor orden se pueden seguir dos métodos distintos: el primero es escribir tantas veces la variable como derivadas queramos realizar. La segunda es escribir el número de orden de derivada despúes de la letra. Esto sirve también para derivadas parciales."
      ],
      "metadata": {
        "id": "8TjHMNCif4Wh"
      }
    },
    {
      "cell_type": "markdown",
      "source": [
        "###<div class=\"alert alert-warning\">Calcula las siguientes derivadas:</div>\n",
        "\n",
        "\n",
        "* $\\displaystyle \\frac{\\partial^5}{\\partial x^5} \\sin(6x) $\n",
        "\n",
        "\n",
        "* $\\displaystyle \\frac{\\partial^5}{\\partial x^2 \\partial y^3} \\sin(4x+6y)$"
      ],
      "metadata": {
        "id": "FrBi1H1Zf4Wh"
      }
    },
    {
      "cell_type": "code",
      "source": [
        "import sympy as sp\n",
        "\n",
        "x, y = sp.symbols('x y')\n",
        "\n",
        "f1 = sp.sin(6*x)\n",
        "f2 = sp.sin(4*x + 6*y)\n",
        "\n",
        "partial_derivative_f1 = sp.diff(f1, x, 5)\n",
        "partial_derivative_f2 = sp.diff(f2, x, 2, y, 3)\n",
        "\n",
        "print(\"Partial derivative of sin(6x) with respect to x (5th order):\", partial_derivative_f1)\n",
        "print(\"Partial derivative of sin(4x+6y) with respect to x (2nd order) and y (3rd order):\", partial_derivative_f2)\n"
      ],
      "outputs": [],
      "metadata": {
        "id": "Jpo9meTDf4Wh"
      },
      "execution_count": null
    },
    {
      "cell_type": "markdown",
      "source": [
        "Una de las primera aplicaciones de la derivada consiste en calcular los máximos y los mínimos, así como los puntos de inflexión de curvas. Para ello debemos realizar la primera o la segunda derivada, igualar a cero y resolver la ecuación. Los extremos y los puntos de inflexión se encuentran entre las soluciones."
      ],
      "metadata": {
        "id": "SVE2rOrIf4Wh"
      }
    },
    {
      "cell_type": "markdown",
      "source": [
        "###<div class=\"alert alert-warning\">Encuentra los posibles extremos y los puntos de inflexión de:</div>\n",
        "\n",
        "\n",
        "$$ 4x^3-2x+7$$"
      ],
      "metadata": {
        "id": "yPx3-7c3f4Wh"
      }
    },
    {
      "cell_type": "code",
      "source": [
        "import sympy as sp\n",
        "\n",
        "x = sp.symbols('x')\n",
        "\n",
        "f_x = 4*x**3 - 2*x + 7\n",
        "\n",
        "df_dx = sp.diff(f_x, x)\n",
        "\n",
        "d2f_dx2 = sp.diff(df_dx, x)\n",
        "\n",
        "#Find possible extrema (where the first derivative is zero)\n",
        "critical_points = sp.solve(df_dx, x)\n",
        "\n",
        "#Find inflection points (where the second derivative is zero)\n",
        "inflection_points = sp.solve(d2f_dx2, x)\n",
        "\n",
        "print(\"First derivative:\", df_dx)\n",
        "print(\"Second derivative:\", d2f_dx2)\n",
        "print(\"Possible extrema (where the first derivative is zero):\", critical_points)\n",
        "print(\"Inflection points (where the second derivative is zero):\", inflection_points)\n"
      ],
      "outputs": [
        {
          "output_type": "execute_result",
          "data": {},
          "metadata": {},
          "execution_count": 27
        }
      ],
      "metadata": {
        "id": "uRxxdxqkf4Wj",
        "outputId": "35ac9a32-2b9b-423b-bfaf-5d887dce6d43"
      },
      "execution_count": null
    },
    {
      "cell_type": "markdown",
      "source": [
        "Otra aplicación de las derivadas son los polinomios de Taylor o en general el desarrollo en serie de potencias de una cierta función. Para ello empleamos la función **series** que hoy en día solamente es capaz de desarrollar funciones en un entorno del cero. Si no especificamos nada, Sympy calcula desarrollos alrededor del cero y de orden 6."
      ],
      "metadata": {
        "id": "kRVjY0ERf4Wj"
      }
    },
    {
      "cell_type": "code",
      "source": [
        "series(exp(x+y),x, n=9)"
      ],
      "outputs": [
        {
          "output_type": "execute_result",
          "data": {},
          "metadata": {},
          "execution_count": 59
        }
      ],
      "metadata": {
        "id": "MAl7Tuv9f4Wk",
        "outputId": "50ce250c-3b6b-48f2-de7e-f83db58f6353"
      },
      "execution_count": null
    },
    {
      "cell_type": "markdown",
      "source": [
        "###<div class=\"alert alert-warning\">Calcula desarrollos de distintos ordenes de las funciones:</div>\n",
        "\n",
        "\n",
        "* $\\exp(x)$\n",
        "\n",
        "\n",
        "* $\\cos(x^2)$\n",
        "\n",
        "\n",
        "* $\\exp(x+y)$\n"
      ],
      "metadata": {
        "id": "tUQLUCNhf4Wk"
      }
    },
    {
      "cell_type": "code",
      "source": [
        "import sympy as sp\n",
        "\n",
        "x, y = sp.symbols('x y')\n",
        "\n",
        "f1 = sp.exp(x)\n",
        "f2 = sp.cos(x**2)\n",
        "f3 = sp.exp(x + y)\n",
        "\n",
        "taylor_expansion_f1 = sp.series(f1, x, 0, 5)  # Expand exp(x) around x=0 up to order 5\n",
        "taylor_expansion_f2 = sp.series(f2, x, 0, 4)  # Expand cos(x**2) around x=0 up to order 4\n",
        "taylor_expansion_f3 = sp.series(f3, x, 0, 3)  # Expand exp(x+y) around x=0 up to order 3\n",
        "\n",
        "print(\"Taylor series expansion of exp(x) up to order 5:\", taylor_expansion_f1)\n",
        "print(\"Taylor series expansion of cos(x**2) up to order 4:\", taylor_expansion_f2)\n",
        "print(\"Taylor series expansion of exp(x+y) up to order 3:\", taylor_expansion_f3)\n"
      ],
      "outputs": [
        {
          "output_type": "stream",
          "name": "stdout",
          "text": [
            "Taylor series expansion of exp(x) up to order 5: 1 + x + x**2/2 + x**3/6 + x**4/24 + O(x**5)\n",
            "Taylor series expansion of cos(x**2) up to order 4: 1 + O(x**4)\n",
            "Taylor series expansion of exp(x+y) up to order 3: exp(y) + x*exp(y) + x**2*exp(y)/2 + O(x**3)\n"
          ]
        }
      ],
      "metadata": {
        "colab": {
          "base_uri": "https://localhost:8080/"
        },
        "id": "ejhBcQezf4Wk",
        "outputId": "8acd1f11-49bd-4ede-b3b1-04c22cf2b6c1"
      },
      "execution_count": 2
    }
  ]
}