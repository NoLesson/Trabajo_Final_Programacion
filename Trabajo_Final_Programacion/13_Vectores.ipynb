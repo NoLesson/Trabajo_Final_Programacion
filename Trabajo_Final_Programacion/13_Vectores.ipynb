{
  "nbformat": 4,
  "nbformat_minor": 0,
  "metadata": {
    "colab": {
      "provenance": []
    },
    "language_info": {
      "name": "python"
    },
    "kernelspec": {
      "name": "python3",
      "display_name": "Python 3"
    }
  },
  "cells": [
    {
      "cell_type": "markdown",
      "source": [
        "#<div class=\"alert alert-success\">Vectores</div>"
      ],
      "metadata": {
        "id": "ZV2kkhVdxQlp"
      }
    },
    {
      "cell_type": "code",
      "source": [
        "from sympy import *\n",
        "init_printing(use_latex='mathjax')\n",
        "x, y, z = symbols('x, y, z')"
      ],
      "outputs": [],
      "metadata": {
        "id": "KwNzf_arxQlr"
      },
      "execution_count": null
    },
    {
      "cell_type": "markdown",
      "source": [
        "En Sympy un vector es simplemente una matriz fila y por ello para crear vectores debemos emplear \"el constructor\" **Matrix** (obligatorio con mayúscula). El vector es una lista de Python, y como tal sus coordenadas deben ir entre corchetes y separadas por comas. En realidad también se pueden usar los paréntesis, pero por motivos que no vienen al caso es mejor utilizar corchetes.\n",
        "\n",
        "Sympy puede manejar vectores de cualquier dimensión, pero aquí trabajaremos en dimensión 3."
      ],
      "metadata": {
        "id": "AJvO2xf5xQls"
      }
    },
    {
      "cell_type": "markdown",
      "source": [
        "###<div class=\"alert alert-warning\">Dados los vectores $u=(4,3,-1)$ y $v=(2,9,1)$ realiza combinaciones lineales con ellos.</div>"
      ],
      "metadata": {
        "id": "kdfIcXxnxQlu"
      }
    },
    {
      "cell_type": "code",
      "source": [
        "import sympy as sp\n",
        "\n",
        "#Define the symbols\n",
        "a, b = sp.symbols('a b')\n",
        "\n",
        "#Define the vectors u and v\n",
        "u = sp.Matrix([4, 3, -1])\n",
        "v = sp.Matrix([2, 9, 1])\n",
        "\n",
        "#Perform a linear combination of u and v with coefficients a and b\n",
        "linear_combination = a * u + b * v\n",
        "\n",
        "#Display the linear combination\n",
        "print(\"Linear combination of u and v:\", linear_combination)\n"
      ],
      "outputs": [],
      "metadata": {
        "id": "q5aUU01ixQlu"
      },
      "execution_count": null
    },
    {
      "cell_type": "markdown",
      "source": [
        "Para calcular el producto escalar se utiliza el método **dot** y para el producto vectorial **cross**. Para el módulo (o norma) de un empleamos el método **norm**."
      ],
      "metadata": {
        "id": "Ylq16lqWxQlv"
      }
    },
    {
      "cell_type": "markdown",
      "source": [
        "###<div class=\"alert alert-warning\">Calcula el producto escalar y vectorial de los vectores anteriores.</div>"
      ],
      "metadata": {
        "id": "BeccdbiWxQlv"
      }
    },
    {
      "cell_type": "code",
      "source": [
        "import sympy as sp\n",
        "\n",
        "#Define the vectors u and v\n",
        "u = sp.Matrix([4, 3, -1])\n",
        "v = sp.Matrix([2, 9, 1])\n",
        "\n",
        "#Calculate the dot product of u and v\n",
        "dot_product_uv = u.dot(v)\n",
        "print(\"Dot product of u and v:\", dot_product_uv)\n",
        "\n",
        "#Calculate the cross product of u and v\n",
        "cross_product_uv = u.cross(v)\n",
        "print(\"Cross product of u and v:\", cross_product_uv)\n"
      ],
      "outputs": [],
      "metadata": {
        "id": "CmTeFvsixQlv"
      },
      "execution_count": null
    },
    {
      "cell_type": "markdown",
      "source": [
        "###<div class=\"alert alert-warning\">Comprueba que el producto escalar de un vector consigo mismo es el cuadrado del módulo.</div>"
      ],
      "metadata": {
        "id": "Pzn14Kn0xQlx"
      }
    },
    {
      "cell_type": "code",
      "source": [
        "import sympy as sp\n",
        "\n",
        "#Define the vector v\n",
        "v = sp.Matrix([4, 3, -1])\n",
        "\n",
        "#Calculate the dot product of v with itself\n",
        "dot_product_vv = v.dot(v)\n",
        "\n",
        "#Calculate the square of the magnitude of v\n",
        "magnitude_squared = v.norm()**2\n",
        "\n",
        "#Check if the dot product is equal to the square of the magnitude\n",
        "is_verified = sp.simplify(dot_product_vv - magnitude_squared) == 0\n",
        "\n",
        "#Display the results\n",
        "print(\"Dot product of v with itself:\", dot_product_vv)\n",
        "print(\"Square of the magnitude of v:\", magnitude_squared)\n",
        "print(\"Verification (Dot product == Square of magnitude):\", is_verified)\n"
      ],
      "outputs": [],
      "metadata": {
        "id": "8060NXl3xQlx"
      },
      "execution_count": null
    },
    {
      "cell_type": "markdown",
      "source": [
        "###<div class=\"alert alert-warning\">Comprueba que el producto vectorial es antisimétrico y que es perpendicular a cada uno de los factores.</div>"
      ],
      "metadata": {
        "id": "iAKRYzO9xQlx"
      }
    },
    {
      "cell_type": "code",
      "source": [
        "import sympy as sp\n",
        "\n",
        "#Define the vectors u and v\n",
        "u = sp.Matrix([4, 3, -1])\n",
        "v = sp.Matrix([2, 9, 1])\n",
        "\n",
        "#Calculate the cross product of u and v\n",
        "cross_product_uv = u.cross(v)\n",
        "\n",
        "#Verify antisymmetry: u x v = - (v x u)\n",
        "antisymmetry_verified = cross_product_uv == -v.cross(u)\n",
        "\n",
        "#Verify orthogonality to each factor: u x (u x v) = v x (u x v) = 0\n",
        "orthogonality_u_verified = u.dot(cross_product_uv) == 0\n",
        "orthogonality_v_verified = v.dot(cross_product_uv) == 0\n",
        "\n",
        "#Display the results\n",
        "print(\"Cross product of u and v:\", cross_product_uv)\n",
        "print(\"Antisymmetry verification:\", antisymmetry_verified)\n",
        "print(\"Orthogonality to u verification:\", orthogonality_u_verified)\n",
        "print(\"Orthogonality to v verification:\", orthogonality_v_verified)\n"
      ],
      "outputs": [],
      "metadata": {
        "id": "_VIpzVzcxQly"
      },
      "execution_count": null
    },
    {
      "cell_type": "markdown",
      "source": [
        "El ángulo entre vectores se obtiene despejando $alpha$ en la fórmula:\n",
        "\n",
        "$$\\cos(\\alpha)=\\frac{u \\cdot v}{|u| \\cdot|v|}$$"
      ],
      "metadata": {
        "id": "-mgvzacexQly"
      }
    },
    {
      "cell_type": "markdown",
      "source": [
        "###<div class=\"alert alert-warning\">Calcula el ángulo que forman $u$ y $v$.</div>"
      ],
      "metadata": {
        "id": "1dZSAmVnxQly"
      }
    },
    {
      "cell_type": "code",
      "source": [
        "import sympy as sp\n",
        "\n",
        "#Define the vectors u and v\n",
        "u = sp.Matrix([4, 3, -1])\n",
        "v = sp.Matrix([2, 9, 1])\n",
        "\n",
        "#Calculate the dot product of u and v\n",
        "dot_product_uv = u.dot(v)\n",
        "\n",
        "#Calculate the magnitudes of u and v\n",
        "magnitude_u = u.norm()\n",
        "magnitude_v = v.norm()\n",
        "\n",
        "#Calculate the cosine of the angle between u and v\n",
        "cos_angle = dot_product_uv / (magnitude_u * magnitude_v)\n",
        "\n",
        "#Calculate the angle in radians\n",
        "angle_radians = sp.acos(cos_angle)\n",
        "\n",
        "#Calculate the angle in degrees\n",
        "angle_degrees = sp.deg(angle_radians)\n",
        "\n",
        "# Display the results\n",
        "print(\"Dot product of u and v:\", dot_product_uv)\n",
        "print(\"Magnitude of u:\", magnitude_u)\n",
        "print(\"Magnitude of v:\", magnitude_v)\n",
        "print(\"Cosine of the angle between u and v:\", cos_angle)\n",
        "print(\"Angle between u and v in radians:\", angle_radians)\n",
        "print(\"Angle between u and v in degrees:\", angle_degrees)\n"
      ],
      "outputs": [
        {
          "output_type": "stream",
          "name": "stdout",
          "text": [
            "Dot product of u and v: 34\n",
            "Magnitude of u: sqrt(26)\n",
            "Magnitude of v: sqrt(86)\n",
            "Cosine of the angle between u and v: 17*sqrt(559)/559\n",
            "Angle between u and v in radians: acos(17*sqrt(559)/559)\n",
            "Angle between u and v in degrees: 180*acos(17*sqrt(559)/559)/pi\n"
          ]
        }
      ],
      "metadata": {
        "colab": {
          "base_uri": "https://localhost:8080/"
        },
        "id": "HL2naZRoxQly",
        "outputId": "d30253df-1976-47c9-c0e4-1ff05e979a5f"
      },
      "execution_count": 2
    },
    {
      "cell_type": "markdown",
      "source": [
        "###<div class=\"alert alert-warning\">Dado el vector $w=(7,5,2)$ comprueba que el producto vectorial no es asociativo.</div>"
      ],
      "metadata": {
        "id": "90zLF--_xQlz"
      }
    },
    {
      "cell_type": "code",
      "source": [
        "import sympy as sp\n",
        "\n",
        "#Define the vectors u, v, and w\n",
        "u = sp.Matrix([4, 3, -1])\n",
        "v = sp.Matrix([2, 9, 1])\n",
        "w = sp.Matrix([7, 5, 2])\n",
        "\n",
        "#Calculate (u x v) x w\n",
        "cross_product_uvw = u.cross(v).cross(w)\n",
        "\n",
        "#Calculate u x (v x w)\n",
        "cross_product_uvw_alternative = u.cross(v.cross(w))\n",
        "\n",
        "#Check if (u x v) x w is equal to u x (v x w)\n",
        "is_associative = cross_product_uvw == cross_product_uvw_alternative\n",
        "\n",
        "#Display the results\n",
        "print(\"(u x v) x w:\", cross_product_uvw)\n",
        "print(\"u x (v x w):\", cross_product_uvw_alternative)\n",
        "print(\"Associativity check:\", is_associative)\n"
      ],
      "outputs": [
        {
          "output_type": "stream",
          "name": "stdout",
          "text": [
            "(u x v) x w: Matrix([[-162], [186], [102]])\n",
            "u x (v x w): Matrix([[-156], [199], [-27]])\n",
            "Associativity check: False\n"
          ]
        }
      ],
      "metadata": {
        "colab": {
          "base_uri": "https://localhost:8080/"
        },
        "id": "nxSfApSFxQlz",
        "outputId": "9c4bc359-16c8-4d6d-a63f-e808f10be22e"
      },
      "execution_count": 3
    }
  ]
}