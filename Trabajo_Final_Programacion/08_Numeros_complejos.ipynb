{
  "nbformat": 4,
  "nbformat_minor": 0,
  "metadata": {
    "colab": {
      "provenance": []
    }
  },
  "cells": [
    {
      "cell_type": "markdown",
      "source": [
        "#<div class=\"alert alert-success\">Números complejos</div>"
      ],
      "metadata": {
        "id": "lo1nKHuLVZM-"
      }
    },
    {
      "cell_type": "code",
      "source": [
        "from sympy import *\n",
        "init_printing()\n",
        "x = symbols('x')"
      ],
      "outputs": [],
      "metadata": {
        "id": "fsbSH2j_VZM_"
      },
      "execution_count": null
    },
    {
      "cell_type": "markdown",
      "source": [
        "Python puede trabajar de modo nativo con los números complejos. Para construir un número complejo se puede utilizara la función **complex** o bien escribir el número complejo en forma binómica, teniendo en cuenta que la unidad imaginaria se denota por **j** en Python. Sin embargo nosotros vamos a trabajar con la biblioteca Sympy y en ella la unidad imaginaria se denota con la letra **I** mayúscula."
      ],
      "metadata": {
        "id": "3EXQ97nFVZNA"
      }
    },
    {
      "cell_type": "markdown",
      "source": [
        "###<div class=\"alert alert-warning\">Calcula la raíz cuadrada de -1 y resuelve la ecuación $x^2+1=0$.</div>"
      ],
      "metadata": {
        "id": "TWSmj6uVVZNB"
      }
    },
    {
      "cell_type": "code",
      "source": [
        "#Equation x^2 + 1 = 0\n",
        "from sympy import symbols, Eq, solve\n",
        "\n",
        "x = symbols('x')\n",
        "\n",
        "ecuacion = Eq(x**2 + 1, 0)\n",
        "\n",
        "soluciones = solve(ecuacion, x)\n",
        "\n",
        "print(\"Soluciones de la ecuacion:\", soluciones)"
      ],
      "metadata": {
        "id": "rlvgK0pFVcV0"
      },
      "execution_count": null,
      "outputs": []
    },
    {
      "cell_type": "code",
      "source": [
        "#Sqrt of -1\n",
        "from sympy import sqrt, I\n",
        "\n",
        "sqrt_negative = sqrt(-1)\n",
        "\n",
        "print(\"La raíz cuadrada de -1 es:\", sqrt_negative)\n",
        "\n",
        "#Another way\n",
        "sqrt_negative_with_I = sqrt(-1) * I\n",
        "\n",
        "# Imprimir el resultado con la unidad imaginaria\n",
        "print(\"La raíz cuadrada de -1 con la unidad imaginaria es:\", sqrt_negative_with_I)"
      ],
      "outputs": [],
      "metadata": {
        "id": "g57DotLWVZNC"
      },
      "execution_count": null
    },
    {
      "cell_type": "markdown",
      "source": [
        "###<div class=\"alert alert-warning\">Dados los números complejos $z=3+5i$ y $w=3-2i$, calcula su suma, su resta, multiplicación, división, inverso y potencias.</div>"
      ],
      "metadata": {
        "id": "RreLqgOUVZNC"
      }
    },
    {
      "cell_type": "code",
      "source": [
        "from sympy import I\n",
        "\n",
        "#Declare complex numbers\n",
        "z = 3 + 5*I\n",
        "w = 3 - 2*I\n",
        "\n",
        "#Addition\n",
        "addition = z + w\n",
        "print(f\"Addition is equals to: {addition}\")\n",
        "\n",
        "\n",
        "#Multiplication\n",
        "multiplication = z * w\n",
        "print(f\"multiplication is equals to: {multiplication}\")\n",
        "\n",
        "\n",
        "#Division\n",
        "division = z / w\n",
        "print(f\"Division: {division}\" )\n",
        "\n",
        "\n",
        "#Inverse\n",
        "inverse_z = 1 / z\n",
        "inverse_w = 1 / w\n",
        "print(f\"Inverse of z: {inverse_z}\")\n",
        "print(f\"Inverse of w: {inverse_w}\")\n",
        "\n",
        "\n",
        "#Uppers\n",
        "upper_z = z**2\n",
        "upper_w = w**2\n",
        "print(\"z squared is \" , upper_z)\n",
        "print(\"w squared is \" , upper_w)"
      ],
      "outputs": [],
      "metadata": {
        "id": "_5-f5KoOVZNC"
      },
      "execution_count": null
    },
    {
      "cell_type": "markdown",
      "source": [
        "Para calcular el módulo de un número complejo empleamos **abs**, para obtener el argumento (en radianes) **arg**, para el conjugado **conj**, y para las partes real e imaginaria **re** e **im**. Con el módulo y el argumento podemos ya escribir el número en forma polar."
      ],
      "metadata": {
        "id": "GwKEama9VZNE"
      }
    },
    {
      "cell_type": "markdown",
      "source": [
        "###<div class=\"alert alert-warning\">Calcula el módulo, el argumento, el conjugado, la parte real e imaginaria de $w$.</div>"
      ],
      "metadata": {
        "id": "r7-xoDBGVZNE"
      }
    },
    {
      "cell_type": "code",
      "source": [
        "from sympy import I, Abs, arg, conjugate, re, im\n",
        "\n",
        "#Declare the number complex\n",
        "w = 3 - 2*I\n",
        "\n",
        "#Calculate module of w\n",
        "module_w = Abs(w)\n",
        "print(\"Módule of w:\", module_w)\n",
        "\n",
        "#Calculate the argument\n",
        "argument_w = arg(w)\n",
        "print(\"Argument of w:\", argument_w)\n",
        "\n",
        "#Calculate the conjugate of w\n",
        "conjugate_w = conjugate(w)\n",
        "print(\"Conjugate of  w: \",conjugate_w)\n",
        "\n",
        "#Calculate the real part and imaginary part of w\n",
        "real_part_w = re(w)\n",
        "imaginary_part_w = im(w)\n",
        "print(\"Real part of w:\", real_part_w)\n",
        "print(\"Imaginary part:\", imaginary_part_w)"
      ],
      "outputs": [],
      "metadata": {
        "id": "QR2KeXRoVZNF"
      },
      "execution_count": null
    },
    {
      "cell_type": "markdown",
      "source": [
        "Si un número complejo $z$ tiene módulo $m$ y argumento $\\theta$ (en radianes), entonces, **según la fórmula de Euler**, el número se puede escribir como $z = m\\cdot exp(i\\theta)$. También se puede escribir como $z= m\\cos(\\theta) + i m\\sin(\\theta)$."
      ],
      "metadata": {
        "id": "U24ReLWtVZNF"
      }
    },
    {
      "cell_type": "markdown",
      "source": [
        "###<div class=\"alert alert-warning\">Utilizando la fórmula de Euler, construye el número complejo $5_{30^0}$ y calcula el conjugado, la parte real, la imaginaria y el módulo.</div>"
      ],
      "metadata": {
        "id": "r5VER9eqVZNF"
      }
    },
    {
      "cell_type": "code",
      "source": [
        "from sympy import I, exp, pi, Abs, conjugate, re, im, rad\n",
        "\n",
        "#Define the angle in degrees\n",
        "angle_degrees = 30\n",
        "\n",
        "#Convert the angle to radians\n",
        "angle_radians = rad(angle_degrees)\n",
        "\n",
        "#Construct the complex number using the Euler's formula\n",
        "z = 5 * exp(I * angle_radians)\n",
        "\n",
        "#Calculate the conjugate of z\n",
        "conjugate_z = conjugate(z)\n",
        "print(\"Conjugate of z:\", conjugate_z)\n",
        "\n",
        "#Calculate the real and imaginary parts of z\n",
        "real_part_z = re(z)\n",
        "imaginary_part_z = im(z)\n",
        "print(\"Real part of z:\", real_part_z)\n",
        "print(\"Imaginary part of z:\", imaginary_part_z)\n",
        "\n",
        "#Calculate the modulus (absolute value) of z\n",
        "modulus_z = Abs(z)\n",
        "print(\"Modulus of z:\", modulus_z)"
      ],
      "outputs": [],
      "metadata": {
        "id": "6JdsUHr_VZNF"
      },
      "execution_count": null
    },
    {
      "cell_type": "markdown",
      "source": [
        "###<div class=\"alert alert-warning\">Calcula distintas raíces del número $3+5i$, comprobando el resultado.</div>"
      ],
      "metadata": {
        "id": "qz1ivEkwVZNG"
      }
    },
    {
      "cell_type": "code",
      "source": [
        "from sympy import I, sqrt, polar_lift, symbols, exp, pi\n",
        "\n",
        "#Define the complex number\n",
        "z = 3 + 5*I\n",
        "\n",
        "#Calculate the polar form of the complex number\n",
        "r, theta = polar_lift(z).as_real_imag()\n",
        "\n",
        "#Define the symbol 'n' for the nth roots\n",
        "n = symbols('n', integer=True)\n",
        "\n",
        "#Calculate the square roots using the general formula\n",
        "square_roots = [sqrt(r) * polar_lift(exp(I * ((theta + 2*k*pi)/2))) for k in range(2)]\n",
        "\n",
        "#Print the square roots\n",
        "print(\"Square roots of\", z, \":\", square_roots)\n",
        "\n",
        "#Check the result by squaring each root\n",
        "verification = [root**2 for root in square_roots]\n",
        "print(\"Verification (roots squared):\", verification)"
      ],
      "outputs": [],
      "metadata": {
        "id": "ArOl6qznVZNG"
      },
      "execution_count": null
    }
  ]
}